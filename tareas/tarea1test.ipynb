{
 "cells": [
  {
   "cell_type": "markdown",
   "metadata": {},
   "source": [
    "## Aqui vamos a estar resolviendo la tarea"
   ]
  },
  {
   "cell_type": "markdown",
   "metadata": {},
   "source": [
    "1.- Iniciemos definiendo una función que ingrese por completo el método de Newton, tal como lo implementamos en C++"
   ]
  },
  {
   "cell_type": "code",
   "execution_count": 3,
   "metadata": {},
   "outputs": [
    {
     "name": "stderr",
     "output_type": "stream",
     "text": [
      "\u001b[32m\u001b[1m  Resolving\u001b[22m\u001b[39m package versions...\n",
      "\u001b[32m\u001b[1mNo Changes\u001b[22m\u001b[39m to `C:\\Users\\MiguelAngel\\Downloads\\TSFC2_LuisBenet\\curso\\Project.toml`\n",
      "\u001b[32m\u001b[1mNo Changes\u001b[22m\u001b[39m to `C:\\Users\\MiguelAngel\\Downloads\\TSFC2_LuisBenet\\curso\\Manifest.toml`\n"
     ]
    }
   ],
   "source": [
    "import Pkg; Pkg.add(\"Plots\")\n"
   ]
  },
  {
   "cell_type": "code",
   "execution_count": 2,
   "metadata": {},
   "outputs": [],
   "source": [
    "using Plots"
   ]
  },
  {
   "cell_type": "code",
   "execution_count": 3,
   "metadata": {},
   "outputs": [
    {
     "data": {
      "image/svg+xml": [
       "<?xml version=\"1.0\" encoding=\"utf-8\"?>\n",
       "<svg xmlns=\"http://www.w3.org/2000/svg\" xmlns:xlink=\"http://www.w3.org/1999/xlink\" width=\"600\" height=\"400\" viewBox=\"0 0 2400 1600\">\n",
       "<defs>\n",
       "  <clipPath id=\"clip490\">\n",
       "    <rect x=\"0\" y=\"0\" width=\"2400\" height=\"1600\"/>\n",
       "  </clipPath>\n",
       "</defs>\n",
       "<path clip-path=\"url(#clip490)\" d=\"\n",
       "M0 1600 L2400 1600 L2400 0 L0 0  Z\n",
       "  \" fill=\"#ffffff\" fill-rule=\"evenodd\" fill-opacity=\"1\"/>\n",
       "<defs>\n",
       "  <clipPath id=\"clip491\">\n",
       "    <rect x=\"480\" y=\"0\" width=\"1681\" height=\"1600\"/>\n",
       "  </clipPath>\n",
       "</defs>\n",
       "<path clip-path=\"url(#clip490)\" d=\"\n",
       "M142.084 1486.45 L2352.76 1486.45 L2352.76 47.2441 L142.084 47.2441  Z\n",
       "  \" fill=\"#ffffff\" fill-rule=\"evenodd\" fill-opacity=\"1\"/>\n",
       "<defs>\n",
       "  <clipPath id=\"clip492\">\n",
       "    <rect x=\"142\" y=\"47\" width=\"2212\" height=\"1440\"/>\n",
       "  </clipPath>\n",
       "</defs>\n",
       "<polyline clip-path=\"url(#clip492)\" style=\"stroke:#000000; stroke-width:2; stroke-opacity:0.1; fill:none\" points=\"\n",
       "  204.651,1486.45 204.651,47.2441 \n",
       "  \"/>\n",
       "<polyline clip-path=\"url(#clip492)\" style=\"stroke:#000000; stroke-width:2; stroke-opacity:0.1; fill:none\" points=\"\n",
       "  552.24,1486.45 552.24,47.2441 \n",
       "  \"/>\n",
       "<polyline clip-path=\"url(#clip492)\" style=\"stroke:#000000; stroke-width:2; stroke-opacity:0.1; fill:none\" points=\"\n",
       "  899.83,1486.45 899.83,47.2441 \n",
       "  \"/>\n",
       "<polyline clip-path=\"url(#clip492)\" style=\"stroke:#000000; stroke-width:2; stroke-opacity:0.1; fill:none\" points=\"\n",
       "  1247.42,1486.45 1247.42,47.2441 \n",
       "  \"/>\n",
       "<polyline clip-path=\"url(#clip492)\" style=\"stroke:#000000; stroke-width:2; stroke-opacity:0.1; fill:none\" points=\"\n",
       "  1595.01,1486.45 1595.01,47.2441 \n",
       "  \"/>\n",
       "<polyline clip-path=\"url(#clip492)\" style=\"stroke:#000000; stroke-width:2; stroke-opacity:0.1; fill:none\" points=\"\n",
       "  1942.6,1486.45 1942.6,47.2441 \n",
       "  \"/>\n",
       "<polyline clip-path=\"url(#clip492)\" style=\"stroke:#000000; stroke-width:2; stroke-opacity:0.1; fill:none\" points=\"\n",
       "  2290.19,1486.45 2290.19,47.2441 \n",
       "  \"/>\n",
       "<polyline clip-path=\"url(#clip490)\" style=\"stroke:#000000; stroke-width:4; stroke-opacity:1; fill:none\" points=\"\n",
       "  142.084,1486.45 2352.76,1486.45 \n",
       "  \"/>\n",
       "<polyline clip-path=\"url(#clip490)\" style=\"stroke:#000000; stroke-width:4; stroke-opacity:1; fill:none\" points=\"\n",
       "  204.651,1486.45 204.651,1469.18 \n",
       "  \"/>\n",
       "<polyline clip-path=\"url(#clip490)\" style=\"stroke:#000000; stroke-width:4; stroke-opacity:1; fill:none\" points=\"\n",
       "  552.24,1486.45 552.24,1469.18 \n",
       "  \"/>\n",
       "<polyline clip-path=\"url(#clip490)\" style=\"stroke:#000000; stroke-width:4; stroke-opacity:1; fill:none\" points=\"\n",
       "  899.83,1486.45 899.83,1469.18 \n",
       "  \"/>\n",
       "<polyline clip-path=\"url(#clip490)\" style=\"stroke:#000000; stroke-width:4; stroke-opacity:1; fill:none\" points=\"\n",
       "  1247.42,1486.45 1247.42,1469.18 \n",
       "  \"/>\n",
       "<polyline clip-path=\"url(#clip490)\" style=\"stroke:#000000; stroke-width:4; stroke-opacity:1; fill:none\" points=\"\n",
       "  1595.01,1486.45 1595.01,1469.18 \n",
       "  \"/>\n",
       "<polyline clip-path=\"url(#clip490)\" style=\"stroke:#000000; stroke-width:4; stroke-opacity:1; fill:none\" points=\"\n",
       "  1942.6,1486.45 1942.6,1469.18 \n",
       "  \"/>\n",
       "<polyline clip-path=\"url(#clip490)\" style=\"stroke:#000000; stroke-width:4; stroke-opacity:1; fill:none\" points=\"\n",
       "  2290.19,1486.45 2290.19,1469.18 \n",
       "  \"/>\n",
       "<path clip-path=\"url(#clip490)\" d=\"M 0 0 M176.63 1530.29 L206.306 1530.29 L206.306 1534.23 L176.63 1534.23 L176.63 1530.29 Z\" fill=\"#000000\" fill-rule=\"evenodd\" fill-opacity=\"1\" /><path clip-path=\"url(#clip490)\" d=\"M 0 0 M225.542 1528.49 Q228.898 1529.2 230.773 1531.47 Q232.671 1533.74 232.671 1537.07 Q232.671 1542.19 229.153 1544.99 Q225.634 1547.79 219.153 1547.79 Q216.977 1547.79 214.662 1547.35 Q212.37 1546.93 209.917 1546.08 L209.917 1541.56 Q211.861 1542.7 214.176 1543.28 Q216.491 1543.86 219.014 1543.86 Q223.412 1543.86 225.704 1542.12 Q228.019 1540.38 228.019 1537.07 Q228.019 1534.02 225.866 1532.31 Q223.736 1530.57 219.917 1530.57 L215.889 1530.57 L215.889 1526.73 L220.102 1526.73 Q223.551 1526.73 225.38 1525.36 Q227.208 1523.97 227.208 1521.38 Q227.208 1518.72 225.31 1517.31 Q223.435 1515.87 219.917 1515.87 Q217.995 1515.87 215.796 1516.29 Q213.597 1516.7 210.958 1517.58 L210.958 1513.42 Q213.62 1512.68 215.935 1512.31 Q218.273 1511.93 220.333 1511.93 Q225.657 1511.93 228.759 1514.37 Q231.861 1516.77 231.861 1520.89 Q231.861 1523.76 230.218 1525.75 Q228.574 1527.72 225.542 1528.49 Z\" fill=\"#000000\" fill-rule=\"evenodd\" fill-opacity=\"1\" /><path clip-path=\"url(#clip490)\" d=\"M 0 0 M524.694 1530.29 L554.37 1530.29 L554.37 1534.23 L524.694 1534.23 L524.694 1530.29 Z\" fill=\"#000000\" fill-rule=\"evenodd\" fill-opacity=\"1\" /><path clip-path=\"url(#clip490)\" d=\"M 0 0 M563.467 1543.18 L579.787 1543.18 L579.787 1547.12 L557.842 1547.12 L557.842 1543.18 Q560.504 1540.43 565.088 1535.8 Q569.694 1531.15 570.875 1529.81 Q573.12 1527.28 574 1525.55 Q574.902 1523.79 574.902 1522.1 Q574.902 1519.34 572.958 1517.61 Q571.037 1515.87 567.935 1515.87 Q565.736 1515.87 563.282 1516.63 Q560.852 1517.4 558.074 1518.95 L558.074 1514.23 Q560.898 1513.09 563.352 1512.51 Q565.805 1511.93 567.842 1511.93 Q573.213 1511.93 576.407 1514.62 Q579.601 1517.31 579.601 1521.8 Q579.601 1523.93 578.791 1525.85 Q578.004 1527.74 575.898 1530.34 Q575.319 1531.01 572.217 1534.23 Q569.115 1537.42 563.467 1543.18 Z\" fill=\"#000000\" fill-rule=\"evenodd\" fill-opacity=\"1\" /><path clip-path=\"url(#clip490)\" d=\"M 0 0 M872.099 1530.29 L901.775 1530.29 L901.775 1534.23 L872.099 1534.23 L872.099 1530.29 Z\" fill=\"#000000\" fill-rule=\"evenodd\" fill-opacity=\"1\" /><path clip-path=\"url(#clip490)\" d=\"M 0 0 M907.654 1543.18 L915.293 1543.18 L915.293 1516.82 L906.983 1518.49 L906.983 1514.23 L915.247 1512.56 L919.923 1512.56 L919.923 1543.18 L927.562 1543.18 L927.562 1547.12 L907.654 1547.12 L907.654 1543.18 Z\" fill=\"#000000\" fill-rule=\"evenodd\" fill-opacity=\"1\" /><path clip-path=\"url(#clip490)\" d=\"M 0 0 M1247.42 1515.64 Q1243.81 1515.64 1241.98 1519.2 Q1240.17 1522.75 1240.17 1529.87 Q1240.17 1536.98 1241.98 1540.55 Q1243.81 1544.09 1247.42 1544.09 Q1251.05 1544.09 1252.86 1540.55 Q1254.69 1536.98 1254.69 1529.87 Q1254.69 1522.75 1252.86 1519.2 Q1251.05 1515.64 1247.42 1515.64 M1247.42 1511.93 Q1253.23 1511.93 1256.29 1516.54 Q1259.36 1521.12 1259.36 1529.87 Q1259.36 1538.6 1256.29 1543.21 Q1253.23 1547.79 1247.42 1547.79 Q1241.61 1547.79 1238.53 1543.21 Q1235.48 1538.6 1235.48 1529.87 Q1235.48 1521.12 1238.53 1516.54 Q1241.61 1511.93 1247.42 1511.93 Z\" fill=\"#000000\" fill-rule=\"evenodd\" fill-opacity=\"1\" /><path clip-path=\"url(#clip490)\" d=\"M 0 0 M1585.39 1543.18 L1593.03 1543.18 L1593.03 1516.82 L1584.72 1518.49 L1584.72 1514.23 L1592.98 1512.56 L1597.66 1512.56 L1597.66 1543.18 L1605.3 1543.18 L1605.3 1547.12 L1585.39 1547.12 L1585.39 1543.18 Z\" fill=\"#000000\" fill-rule=\"evenodd\" fill-opacity=\"1\" /><path clip-path=\"url(#clip490)\" d=\"M 0 0 M1937.25 1543.18 L1953.57 1543.18 L1953.57 1547.12 L1931.63 1547.12 L1931.63 1543.18 Q1934.29 1540.43 1938.87 1535.8 Q1943.48 1531.15 1944.66 1529.81 Q1946.91 1527.28 1947.79 1525.55 Q1948.69 1523.79 1948.69 1522.1 Q1948.69 1519.34 1946.74 1517.61 Q1944.82 1515.87 1941.72 1515.87 Q1939.52 1515.87 1937.07 1516.63 Q1934.64 1517.4 1931.86 1518.95 L1931.86 1514.23 Q1934.68 1513.09 1937.14 1512.51 Q1939.59 1511.93 1941.63 1511.93 Q1947 1511.93 1950.19 1514.62 Q1953.39 1517.31 1953.39 1521.8 Q1953.39 1523.93 1952.58 1525.85 Q1951.79 1527.74 1949.68 1530.34 Q1949.1 1531.01 1946 1534.23 Q1942.9 1537.42 1937.25 1543.18 Z\" fill=\"#000000\" fill-rule=\"evenodd\" fill-opacity=\"1\" /><path clip-path=\"url(#clip490)\" d=\"M 0 0 M2294.44 1528.49 Q2297.79 1529.2 2299.67 1531.47 Q2301.57 1533.74 2301.57 1537.07 Q2301.57 1542.19 2298.05 1544.99 Q2294.53 1547.79 2288.05 1547.79 Q2285.87 1547.79 2283.56 1547.35 Q2281.27 1546.93 2278.81 1546.08 L2278.81 1541.56 Q2280.76 1542.7 2283.07 1543.28 Q2285.39 1543.86 2287.91 1543.86 Q2292.31 1543.86 2294.6 1542.12 Q2296.91 1540.38 2296.91 1537.07 Q2296.91 1534.02 2294.76 1532.31 Q2292.63 1530.57 2288.81 1530.57 L2284.78 1530.57 L2284.78 1526.73 L2289 1526.73 Q2292.45 1526.73 2294.28 1525.36 Q2296.1 1523.97 2296.1 1521.38 Q2296.1 1518.72 2294.21 1517.31 Q2292.33 1515.87 2288.81 1515.87 Q2286.89 1515.87 2284.69 1516.29 Q2282.49 1516.7 2279.85 1517.58 L2279.85 1513.42 Q2282.52 1512.68 2284.83 1512.31 Q2287.17 1511.93 2289.23 1511.93 Q2294.55 1511.93 2297.65 1514.37 Q2300.76 1516.77 2300.76 1520.89 Q2300.76 1523.76 2299.11 1525.75 Q2297.47 1527.72 2294.44 1528.49 Z\" fill=\"#000000\" fill-rule=\"evenodd\" fill-opacity=\"1\" /><polyline clip-path=\"url(#clip492)\" style=\"stroke:#000000; stroke-width:2; stroke-opacity:0.1; fill:none\" points=\"\n",
       "  142.084,1445.72 2352.76,1445.72 \n",
       "  \"/>\n",
       "<polyline clip-path=\"url(#clip492)\" style=\"stroke:#000000; stroke-width:2; stroke-opacity:0.1; fill:none\" points=\"\n",
       "  142.084,1144 2352.76,1144 \n",
       "  \"/>\n",
       "<polyline clip-path=\"url(#clip492)\" style=\"stroke:#000000; stroke-width:2; stroke-opacity:0.1; fill:none\" points=\"\n",
       "  142.084,842.276 2352.76,842.276 \n",
       "  \"/>\n",
       "<polyline clip-path=\"url(#clip492)\" style=\"stroke:#000000; stroke-width:2; stroke-opacity:0.1; fill:none\" points=\"\n",
       "  142.084,540.556 2352.76,540.556 \n",
       "  \"/>\n",
       "<polyline clip-path=\"url(#clip492)\" style=\"stroke:#000000; stroke-width:2; stroke-opacity:0.1; fill:none\" points=\"\n",
       "  142.084,238.836 2352.76,238.836 \n",
       "  \"/>\n",
       "<polyline clip-path=\"url(#clip490)\" style=\"stroke:#000000; stroke-width:4; stroke-opacity:1; fill:none\" points=\"\n",
       "  142.084,1486.45 142.084,47.2441 \n",
       "  \"/>\n",
       "<polyline clip-path=\"url(#clip490)\" style=\"stroke:#000000; stroke-width:4; stroke-opacity:1; fill:none\" points=\"\n",
       "  142.084,1445.72 168.612,1445.72 \n",
       "  \"/>\n",
       "<polyline clip-path=\"url(#clip490)\" style=\"stroke:#000000; stroke-width:4; stroke-opacity:1; fill:none\" points=\"\n",
       "  142.084,1144 168.612,1144 \n",
       "  \"/>\n",
       "<polyline clip-path=\"url(#clip490)\" style=\"stroke:#000000; stroke-width:4; stroke-opacity:1; fill:none\" points=\"\n",
       "  142.084,842.276 168.612,842.276 \n",
       "  \"/>\n",
       "<polyline clip-path=\"url(#clip490)\" style=\"stroke:#000000; stroke-width:4; stroke-opacity:1; fill:none\" points=\"\n",
       "  142.084,540.556 168.612,540.556 \n",
       "  \"/>\n",
       "<polyline clip-path=\"url(#clip490)\" style=\"stroke:#000000; stroke-width:4; stroke-opacity:1; fill:none\" points=\"\n",
       "  142.084,238.836 168.612,238.836 \n",
       "  \"/>\n",
       "<path clip-path=\"url(#clip490)\" d=\"M 0 0 M50.9921 1446.17 L80.6679 1446.17 L80.6679 1450.1 L50.9921 1450.1 L50.9921 1446.17 Z\" fill=\"#000000\" fill-rule=\"evenodd\" fill-opacity=\"1\" /><path clip-path=\"url(#clip490)\" d=\"M 0 0 M89.7651 1459.06 L106.084 1459.06 L106.084 1463 L84.1401 1463 L84.1401 1459.06 Q86.8021 1456.31 91.3854 1451.68 Q95.9919 1447.02 97.1724 1445.68 Q99.4178 1443.16 100.297 1441.42 Q101.2 1439.66 101.2 1437.97 Q101.2 1435.22 99.2558 1433.48 Q97.3345 1431.75 94.2326 1431.75 Q92.0336 1431.75 89.5799 1432.51 Q87.1493 1433.27 84.3716 1434.82 L84.3716 1430.1 Q87.1956 1428.97 89.6493 1428.39 Q92.103 1427.81 94.14 1427.81 Q99.5104 1427.81 102.705 1430.5 Q105.899 1433.18 105.899 1437.67 Q105.899 1439.8 105.089 1441.72 Q104.302 1443.62 102.196 1446.21 Q101.617 1446.88 98.515 1450.1 Q95.4132 1453.3 89.7651 1459.06 Z\" fill=\"#000000\" fill-rule=\"evenodd\" fill-opacity=\"1\" /><path clip-path=\"url(#clip490)\" d=\"M 0 0 M94.14 1129.79 Q90.529 1129.79 88.7003 1133.36 Q86.8947 1136.9 86.8947 1144.03 Q86.8947 1151.14 88.7003 1154.7 Q90.529 1158.24 94.14 1158.24 Q97.7743 1158.24 99.5798 1154.7 Q101.409 1151.14 101.409 1144.03 Q101.409 1136.9 99.5798 1133.36 Q97.7743 1129.79 94.14 1129.79 M94.14 1126.09 Q99.9502 1126.09 103.006 1130.7 Q106.084 1135.28 106.084 1144.03 Q106.084 1152.76 103.006 1157.36 Q99.9502 1161.95 94.14 1161.95 Q88.3299 1161.95 85.2512 1157.36 Q82.1957 1152.76 82.1957 1144.03 Q82.1957 1135.28 85.2512 1130.7 Q88.3299 1126.09 94.14 1126.09 Z\" fill=\"#000000\" fill-rule=\"evenodd\" fill-opacity=\"1\" /><path clip-path=\"url(#clip490)\" d=\"M 0 0 M89.7651 855.621 L106.084 855.621 L106.084 859.556 L84.1401 859.556 L84.1401 855.621 Q86.8021 852.866 91.3854 848.237 Q95.9919 843.584 97.1724 842.241 Q99.4178 839.718 100.297 837.982 Q101.2 836.223 101.2 834.533 Q101.2 831.778 99.2558 830.042 Q97.3345 828.306 94.2326 828.306 Q92.0336 828.306 89.5799 829.07 Q87.1493 829.834 84.3716 831.385 L84.3716 826.663 Q87.1956 825.528 89.6493 824.95 Q92.103 824.371 94.14 824.371 Q99.5104 824.371 102.705 827.056 Q105.899 829.741 105.899 834.232 Q105.899 836.362 105.089 838.283 Q104.302 840.181 102.196 842.774 Q101.617 843.445 98.515 846.663 Q95.4132 849.857 89.7651 855.621 Z\" fill=\"#000000\" fill-rule=\"evenodd\" fill-opacity=\"1\" /><path clip-path=\"url(#clip490)\" d=\"M 0 0 M96.5011 527.35 L84.6956 545.799 L96.5011 545.799 L96.5011 527.35 M95.2743 523.276 L101.154 523.276 L101.154 545.799 L106.084 545.799 L106.084 549.688 L101.154 549.688 L101.154 557.836 L96.5011 557.836 L96.5011 549.688 L80.8994 549.688 L80.8994 545.174 L95.2743 523.276 Z\" fill=\"#000000\" fill-rule=\"evenodd\" fill-opacity=\"1\" /><path clip-path=\"url(#clip490)\" d=\"M 0 0 M94.5567 236.973 Q91.4086 236.973 89.5567 239.126 Q87.728 241.278 87.728 245.028 Q87.728 248.755 89.5567 250.931 Q91.4086 253.084 94.5567 253.084 Q97.7048 253.084 99.5335 250.931 Q101.385 248.755 101.385 245.028 Q101.385 241.278 99.5335 239.126 Q97.7048 236.973 94.5567 236.973 M103.839 222.32 L103.839 226.579 Q102.08 225.746 100.274 225.306 Q98.4919 224.866 96.7326 224.866 Q92.103 224.866 89.6493 227.991 Q87.2188 231.116 86.8716 237.436 Q88.2373 235.422 90.2975 234.357 Q92.3576 233.269 94.8345 233.269 Q100.043 233.269 103.052 236.44 Q106.084 239.589 106.084 245.028 Q106.084 250.352 102.936 253.57 Q99.7882 256.788 94.5567 256.788 Q88.5614 256.788 85.3901 252.204 Q82.2188 247.598 82.2188 238.871 Q82.2188 230.677 86.1077 225.815 Q89.9965 220.931 96.5474 220.931 Q98.3067 220.931 100.089 221.278 Q101.895 221.626 103.839 222.32 Z\" fill=\"#000000\" fill-rule=\"evenodd\" fill-opacity=\"1\" /><circle clip-path=\"url(#clip492)\" cx=\"204.651\" cy=\"87.9763\" r=\"14\" fill=\"#009af9\" fill-rule=\"evenodd\" fill-opacity=\"1\" stroke=\"#000000\" stroke-opacity=\"1\" stroke-width=\"3.2\"/>\n",
       "<circle clip-path=\"url(#clip492)\" cx=\"274.169\" cy=\"262.974\" r=\"14\" fill=\"#009af9\" fill-rule=\"evenodd\" fill-opacity=\"1\" stroke=\"#000000\" stroke-opacity=\"1\" stroke-width=\"3.2\"/>\n",
       "<circle clip-path=\"url(#clip492)\" cx=\"343.687\" cy=\"425.903\" r=\"14\" fill=\"#009af9\" fill-rule=\"evenodd\" fill-opacity=\"1\" stroke=\"#000000\" stroke-opacity=\"1\" stroke-width=\"3.2\"/>\n",
       "<circle clip-path=\"url(#clip492)\" cx=\"413.205\" cy=\"576.762\" r=\"14\" fill=\"#009af9\" fill-rule=\"evenodd\" fill-opacity=\"1\" stroke=\"#000000\" stroke-opacity=\"1\" stroke-width=\"3.2\"/>\n",
       "<circle clip-path=\"url(#clip492)\" cx=\"482.722\" cy=\"715.554\" r=\"14\" fill=\"#009af9\" fill-rule=\"evenodd\" fill-opacity=\"1\" stroke=\"#000000\" stroke-opacity=\"1\" stroke-width=\"3.2\"/>\n",
       "<circle clip-path=\"url(#clip492)\" cx=\"552.24\" cy=\"842.276\" r=\"14\" fill=\"#009af9\" fill-rule=\"evenodd\" fill-opacity=\"1\" stroke=\"#000000\" stroke-opacity=\"1\" stroke-width=\"3.2\"/>\n",
       "<circle clip-path=\"url(#clip492)\" cx=\"621.758\" cy=\"956.93\" r=\"14\" fill=\"#009af9\" fill-rule=\"evenodd\" fill-opacity=\"1\" stroke=\"#000000\" stroke-opacity=\"1\" stroke-width=\"3.2\"/>\n",
       "<circle clip-path=\"url(#clip492)\" cx=\"691.276\" cy=\"1059.51\" r=\"14\" fill=\"#009af9\" fill-rule=\"evenodd\" fill-opacity=\"1\" stroke=\"#000000\" stroke-opacity=\"1\" stroke-width=\"3.2\"/>\n",
       "<circle clip-path=\"url(#clip492)\" cx=\"760.794\" cy=\"1150.03\" r=\"14\" fill=\"#009af9\" fill-rule=\"evenodd\" fill-opacity=\"1\" stroke=\"#000000\" stroke-opacity=\"1\" stroke-width=\"3.2\"/>\n",
       "<circle clip-path=\"url(#clip492)\" cx=\"830.312\" cy=\"1228.48\" r=\"14\" fill=\"#009af9\" fill-rule=\"evenodd\" fill-opacity=\"1\" stroke=\"#000000\" stroke-opacity=\"1\" stroke-width=\"3.2\"/>\n",
       "<circle clip-path=\"url(#clip492)\" cx=\"899.83\" cy=\"1294.86\" r=\"14\" fill=\"#009af9\" fill-rule=\"evenodd\" fill-opacity=\"1\" stroke=\"#000000\" stroke-opacity=\"1\" stroke-width=\"3.2\"/>\n",
       "<circle clip-path=\"url(#clip492)\" cx=\"969.348\" cy=\"1349.17\" r=\"14\" fill=\"#009af9\" fill-rule=\"evenodd\" fill-opacity=\"1\" stroke=\"#000000\" stroke-opacity=\"1\" stroke-width=\"3.2\"/>\n",
       "<circle clip-path=\"url(#clip492)\" cx=\"1038.87\" cy=\"1391.41\" r=\"14\" fill=\"#009af9\" fill-rule=\"evenodd\" fill-opacity=\"1\" stroke=\"#000000\" stroke-opacity=\"1\" stroke-width=\"3.2\"/>\n",
       "<circle clip-path=\"url(#clip492)\" cx=\"1108.38\" cy=\"1421.58\" r=\"14\" fill=\"#009af9\" fill-rule=\"evenodd\" fill-opacity=\"1\" stroke=\"#000000\" stroke-opacity=\"1\" stroke-width=\"3.2\"/>\n",
       "<circle clip-path=\"url(#clip492)\" cx=\"1177.9\" cy=\"1439.68\" r=\"14\" fill=\"#009af9\" fill-rule=\"evenodd\" fill-opacity=\"1\" stroke=\"#000000\" stroke-opacity=\"1\" stroke-width=\"3.2\"/>\n",
       "<circle clip-path=\"url(#clip492)\" cx=\"1247.42\" cy=\"1445.72\" r=\"14\" fill=\"#009af9\" fill-rule=\"evenodd\" fill-opacity=\"1\" stroke=\"#000000\" stroke-opacity=\"1\" stroke-width=\"3.2\"/>\n",
       "<circle clip-path=\"url(#clip492)\" cx=\"1316.94\" cy=\"1439.68\" r=\"14\" fill=\"#009af9\" fill-rule=\"evenodd\" fill-opacity=\"1\" stroke=\"#000000\" stroke-opacity=\"1\" stroke-width=\"3.2\"/>\n",
       "<circle clip-path=\"url(#clip492)\" cx=\"1386.46\" cy=\"1421.58\" r=\"14\" fill=\"#009af9\" fill-rule=\"evenodd\" fill-opacity=\"1\" stroke=\"#000000\" stroke-opacity=\"1\" stroke-width=\"3.2\"/>\n",
       "<circle clip-path=\"url(#clip492)\" cx=\"1455.97\" cy=\"1391.41\" r=\"14\" fill=\"#009af9\" fill-rule=\"evenodd\" fill-opacity=\"1\" stroke=\"#000000\" stroke-opacity=\"1\" stroke-width=\"3.2\"/>\n",
       "<circle clip-path=\"url(#clip492)\" cx=\"1525.49\" cy=\"1349.17\" r=\"14\" fill=\"#009af9\" fill-rule=\"evenodd\" fill-opacity=\"1\" stroke=\"#000000\" stroke-opacity=\"1\" stroke-width=\"3.2\"/>\n",
       "<circle clip-path=\"url(#clip492)\" cx=\"1595.01\" cy=\"1294.86\" r=\"14\" fill=\"#009af9\" fill-rule=\"evenodd\" fill-opacity=\"1\" stroke=\"#000000\" stroke-opacity=\"1\" stroke-width=\"3.2\"/>\n",
       "<circle clip-path=\"url(#clip492)\" cx=\"1664.53\" cy=\"1228.48\" r=\"14\" fill=\"#009af9\" fill-rule=\"evenodd\" fill-opacity=\"1\" stroke=\"#000000\" stroke-opacity=\"1\" stroke-width=\"3.2\"/>\n",
       "<circle clip-path=\"url(#clip492)\" cx=\"1734.05\" cy=\"1150.03\" r=\"14\" fill=\"#009af9\" fill-rule=\"evenodd\" fill-opacity=\"1\" stroke=\"#000000\" stroke-opacity=\"1\" stroke-width=\"3.2\"/>\n",
       "<circle clip-path=\"url(#clip492)\" cx=\"1803.56\" cy=\"1059.51\" r=\"14\" fill=\"#009af9\" fill-rule=\"evenodd\" fill-opacity=\"1\" stroke=\"#000000\" stroke-opacity=\"1\" stroke-width=\"3.2\"/>\n",
       "<circle clip-path=\"url(#clip492)\" cx=\"1873.08\" cy=\"956.93\" r=\"14\" fill=\"#009af9\" fill-rule=\"evenodd\" fill-opacity=\"1\" stroke=\"#000000\" stroke-opacity=\"1\" stroke-width=\"3.2\"/>\n",
       "<circle clip-path=\"url(#clip492)\" cx=\"1942.6\" cy=\"842.276\" r=\"14\" fill=\"#009af9\" fill-rule=\"evenodd\" fill-opacity=\"1\" stroke=\"#000000\" stroke-opacity=\"1\" stroke-width=\"3.2\"/>\n",
       "<circle clip-path=\"url(#clip492)\" cx=\"2012.12\" cy=\"715.554\" r=\"14\" fill=\"#009af9\" fill-rule=\"evenodd\" fill-opacity=\"1\" stroke=\"#000000\" stroke-opacity=\"1\" stroke-width=\"3.2\"/>\n",
       "<circle clip-path=\"url(#clip492)\" cx=\"2081.64\" cy=\"576.762\" r=\"14\" fill=\"#009af9\" fill-rule=\"evenodd\" fill-opacity=\"1\" stroke=\"#000000\" stroke-opacity=\"1\" stroke-width=\"3.2\"/>\n",
       "<circle clip-path=\"url(#clip492)\" cx=\"2151.15\" cy=\"425.903\" r=\"14\" fill=\"#009af9\" fill-rule=\"evenodd\" fill-opacity=\"1\" stroke=\"#000000\" stroke-opacity=\"1\" stroke-width=\"3.2\"/>\n",
       "<circle clip-path=\"url(#clip492)\" cx=\"2220.67\" cy=\"262.974\" r=\"14\" fill=\"#009af9\" fill-rule=\"evenodd\" fill-opacity=\"1\" stroke=\"#000000\" stroke-opacity=\"1\" stroke-width=\"3.2\"/>\n",
       "<circle clip-path=\"url(#clip492)\" cx=\"2290.19\" cy=\"87.9763\" r=\"14\" fill=\"#009af9\" fill-rule=\"evenodd\" fill-opacity=\"1\" stroke=\"#000000\" stroke-opacity=\"1\" stroke-width=\"3.2\"/>\n",
       "<path clip-path=\"url(#clip490)\" d=\"\n",
       "M1982.42 216.178 L2279.07 216.178 L2279.07 95.2176 L1982.42 95.2176  Z\n",
       "  \" fill=\"#ffffff\" fill-rule=\"evenodd\" fill-opacity=\"1\"/>\n",
       "<polyline clip-path=\"url(#clip490)\" style=\"stroke:#000000; stroke-width:4; stroke-opacity:1; fill:none\" points=\"\n",
       "  1982.42,216.178 2279.07,216.178 2279.07,95.2176 1982.42,95.2176 1982.42,216.178 \n",
       "  \"/>\n",
       "<circle clip-path=\"url(#clip490)\" cx=\"2080.67\" cy=\"155.698\" r=\"23\" fill=\"#009af9\" fill-rule=\"evenodd\" fill-opacity=\"1\" stroke=\"#000000\" stroke-opacity=\"1\" stroke-width=\"5.12\"/>\n",
       "<path clip-path=\"url(#clip490)\" d=\"M 0 0 M2192.77 175.385 Q2190.96 180.015 2189.25 181.427 Q2187.53 182.839 2184.66 182.839 L2181.26 182.839 L2181.26 179.274 L2183.76 179.274 Q2185.52 179.274 2186.49 178.44 Q2187.46 177.607 2188.64 174.505 L2189.41 172.561 L2178.92 147.052 L2183.44 147.052 L2191.54 167.329 L2199.64 147.052 L2204.15 147.052 L2192.77 175.385 Z\" fill=\"#000000\" fill-rule=\"evenodd\" fill-opacity=\"1\" /><path clip-path=\"url(#clip490)\" d=\"M 0 0 M2210.03 169.042 L2217.67 169.042 L2217.67 142.677 L2209.36 144.343 L2209.36 140.084 L2217.63 138.418 L2222.3 138.418 L2222.3 169.042 L2229.94 169.042 L2229.94 172.978 L2210.03 172.978 L2210.03 169.042 Z\" fill=\"#000000\" fill-rule=\"evenodd\" fill-opacity=\"1\" /></svg>\n"
      ]
     },
     "execution_count": 3,
     "metadata": {},
     "output_type": "execute_result"
    }
   ],
   "source": [
    "x = -3:0.2:3\n",
    "y = x.^2 .- 2\n",
    "scatter(x,y) "
   ]
  },
  {
   "cell_type": "code",
   "execution_count": 9,
   "metadata": {},
   "outputs": [
    {
     "data": {
      "text/plain": [
       "newton (generic function with 1 method)"
      ]
     },
     "execution_count": 9,
     "metadata": {},
     "output_type": "execute_result"
    }
   ],
   "source": [
    "function newton(f,df, x)\n",
    "    x0 = x\n",
    "    c = 0\n",
    "    x1 = 0.0\n",
    "    while f(x0) > 0.00005\n",
    "        x1 = x0 - f(x0)/df(x0)\n",
    "        x0 = x1\n",
    "        c = c+1\n",
    "    end\n",
    "    return x1, c\n",
    "end\n",
    "    \n",
    "    "
   ]
  },
  {
   "cell_type": "code",
   "execution_count": 2,
   "metadata": {},
   "outputs": [
    {
     "data": {
      "text/plain": [
       "f (generic function with 1 method)"
      ]
     },
     "execution_count": 2,
     "metadata": {},
     "output_type": "execute_result"
    }
   ],
   "source": [
    "f(x) = x^2 -2\n"
   ]
  },
  {
   "cell_type": "code",
   "execution_count": 3,
   "metadata": {},
   "outputs": [
    {
     "data": {
      "text/plain": [
       "df (generic function with 1 method)"
      ]
     },
     "execution_count": 3,
     "metadata": {},
     "output_type": "execute_result"
    }
   ],
   "source": [
    "df(x) = 2x"
   ]
  },
  {
   "cell_type": "code",
   "execution_count": 4,
   "metadata": {},
   "outputs": [
    {
     "data": {
      "text/plain": [
       "-1"
      ]
     },
     "execution_count": 4,
     "metadata": {},
     "output_type": "execute_result"
    }
   ],
   "source": [
    "f(1)"
   ]
  },
  {
   "cell_type": "code",
   "execution_count": 5,
   "metadata": {},
   "outputs": [
    {
     "data": {
      "text/plain": [
       "-3.836000000023709e-5"
      ]
     },
     "execution_count": 5,
     "metadata": {},
     "output_type": "execute_result"
    }
   ],
   "source": [
    "f(1.4142)"
   ]
  },
  {
   "cell_type": "code",
   "execution_count": 6,
   "metadata": {},
   "outputs": [
    {
     "data": {
      "text/plain": [
       "4"
      ]
     },
     "execution_count": 6,
     "metadata": {},
     "output_type": "execute_result"
    }
   ],
   "source": [
    "df(2)"
   ]
  },
  {
   "cell_type": "code",
   "execution_count": 7,
   "metadata": {},
   "outputs": [
    {
     "data": {
      "text/plain": [
       "f (generic function with 1 method)"
      ]
     },
     "execution_count": 7,
     "metadata": {},
     "output_type": "execute_result"
    }
   ],
   "source": [
    "f"
   ]
  },
  {
   "cell_type": "code",
   "execution_count": 17,
   "metadata": {},
   "outputs": [
    {
     "data": {
      "text/plain": [
       "(1.4142156862745099, 3)"
      ]
     },
     "execution_count": 17,
     "metadata": {},
     "output_type": "execute_result"
    }
   ],
   "source": [
    "newton(f,df,2.0)"
   ]
  },
  {
   "cell_type": "code",
   "execution_count": null,
   "metadata": {},
   "outputs": [],
   "source": []
  }
 ],
 "metadata": {
  "kernelspec": {
   "display_name": "Julia 1.5.2",
   "language": "julia",
   "name": "julia-1.5"
  },
  "language_info": {
   "file_extension": ".jl",
   "mimetype": "application/julia",
   "name": "julia",
   "version": "1.5.2"
  }
 },
 "nbformat": 4,
 "nbformat_minor": 4
}
